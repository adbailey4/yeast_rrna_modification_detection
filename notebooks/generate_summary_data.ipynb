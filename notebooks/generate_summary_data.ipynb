{
 "cells": [
  {
   "cell_type": "code",
   "execution_count": 1,
   "metadata": {},
   "outputs": [
    {
     "name": "stderr",
     "output_type": "stream",
     "text": [
      "/Users/andrewbailey/anaconda3/envs/read_clustering/lib/python3.7/site-packages/umap/__init__.py:9: UserWarning: Tensorflow not installed; ParametricUMAP will be unavailable\n",
      "  warn(\"Tensorflow not installed; ParametricUMAP will be unavailable\")\n",
      "/Users/andrewbailey/anaconda3/envs/read_clustering/lib/python3.7/site-packages/sklearn/utils/deprecation.py:143: FutureWarning: The sklearn.metrics.classification module is  deprecated in version 0.22 and will be removed in version 0.24. The corresponding classes / functions should instead be imported from sklearn.metrics. Anything that cannot be imported from sklearn.metrics is now part of the private API.\n",
      "  warnings.warn(message, FutureWarning)\n"
     ]
    }
   ],
   "source": [
    "from read_clustering.variant_call import VariantCalls\n",
    "threshold = 0.5\n",
    "import pandas as pd\n",
    "import numpy as np\n",
    "import seaborn as sns\n",
    "import matplotlib.pyplot as plt\n",
    "import matplotlib as mpl\n",
    "import matplotlib.patches as mpatches\n",
    "import re\n",
    "from scipy.stats import pearsonr\n",
    "from pathlib import Path\n",
    "from statsmodels.stats.multitest import multipletests\n",
    "from scipy.stats import combine_pvalues, norm, mannwhitneyu\n",
    "from read_clustering.variant_call import VariantCalls\n",
    "import matplotlib.pyplot as plt\n",
    "import itertools"
   ]
  },
  {
   "cell_type": "code",
   "execution_count": 2,
   "metadata": {},
   "outputs": [],
   "source": [
    "# final ivt vs native\n",
    "CBF5GAL = \"modification_calls/20190610_R941_CBF5GAL.csv\"\n",
    "CBF5GLU = \"modification_calls/20190611_R941_CBF5GLU.csv\"\n",
    "NOP58GAL = \"modification_calls/20190617_R941_NOP58GAL.csv\"\n",
    "NOP58GLU = \"modification_calls/20190619_R941_NOP58GLU.csv\"\n",
    "IVT = \"modification_calls/20191014_R941_IVT.csv\"\n",
    "mutant448 = \"modification_calls/20210405_R941_mutant448.csv\"\n",
    "WT_YPD = \"modification_calls/20210410_R941_WT_YPD.csv\"\n",
    "WT_KOAC = \"modification_calls/20210412_R941_WT_KOAC.csv\"\n",
    "mutant452 = \"modification_calls/20210413_R941_mutant452.csv\"\n",
    "WT_CY = \"modification_calls/20210414_R941_WT_CY.csv\"\n",
    "mutant451 = \"modification_calls/20210415_R941_mutant451.csv\"\n",
    "# WT_PB = \"modification_calls/20210520_R941_WT_PB.csv\"\n",
    "WT_stationary = \"modification_calls/20210521_R941_WT_stationary.csv\"\n",
    "Dbp3d_YPD = \"modification_calls/20210527_R941_Dbp3d_YPD.csv\"\n",
    "# trl1d_YPD = \"modification_calls/20210528_R941_trl1d_YPD.csv\"\n",
    "WT_rapa5 = \"modification_calls/20210531_R941_WT_rapa5.csv\"\n",
    "Mix = \"modification_calls/20210618_R941_Mix.csv\"\n",
    "prp43 = \"modification_calls/20210619_R941_prp43.csv\"\n",
    "MIX_2 = \"modification_calls/20210716_R941_MIX.csv\"\n",
    "YS602_18_YPD = \"modification_calls/20210717_R941_YS602_18_YPD.csv\"\n",
    "prp16_18deg_YPD = \"modification_calls/20210719_R941_prp16_18deg_YPD.csv\"\n",
    "spp382_YPD = \"modification_calls/20210720_R941_spp382_YPD.csv\"\n",
    "YS602_18_YPD2 = \"modification_calls/20210722_R941_YS602_18_YPD2.csv\"\n",
    "dbr1d_YPD = \"modification_calls/20210729_R941_dbr1d_YPD.csv\"\n",
    "sqs1d_YPD = \"modification_calls/20210730_R941_sqs1d_YPD.csv\"\n",
    "# snR4d_YPD = \"modification_calls/20210823_R941_snR4d_YPD.csv\"\n",
    "snR45d_YPD = \"modification_calls/20210824_R941_snR45d_YPD.csv\"\n",
    "mutant448_2 = \"modification_calls/20210825_R941_mutant448.csv\"\n",
    "snR4d_alpha_YPD = \"modification_calls/20210902_R941_snR4d_alpha_YPD.csv\"\n",
    "WT_YPD2 = \"modification_calls/20210930_R941_YS602_WT_repeat2.csv\"\n",
    "WT_YPD3 = \"modification_calls/20211001_R941_YS602_WT_repeat3.csv\"\n",
    "prx1 = \"modification_calls/20211006_R941_pxr1d_YPD.csv\"\n",
    "YS602_18_YPD3 = \"modification_calls/20211007_R941_YS602_18_YPD3.csv\"\n",
    "prp43_2 = \"modification_calls/20211008_R941_prp43_18deg_YPD_repeat2.csv\"\n",
    "Dbp3d_YPD2 = \"modification_calls/20211011_R941_dbp3d_YPD_repeat2.csv\"\n",
    "prx1_2 = \"modification_calls/20211021_pxr1d_YPD_repeat2.csv\"\n",
    "\n",
    "# YS602_18_YPD12 = \"modification_calls/20210717_R941_YS602_18_YPD12.csv\"\n"
   ]
  },
  {
   "cell_type": "code",
   "execution_count": 3,
   "metadata": {},
   "outputs": [
    {
     "name": "stdout",
     "output_type": "stream",
     "text": [
      "33 33\n"
     ]
    }
   ],
   "source": [
    "all_file_paths = [CBF5GAL, CBF5GLU, NOP58GAL, NOP58GLU, IVT, mutant448, WT_YPD, \n",
    "                  WT_KOAC, mutant452, WT_CY, mutant451, WT_stationary,\n",
    "                  Dbp3d_YPD, WT_rapa5, Mix, prp43, MIX_2, YS602_18_YPD,\n",
    "                  prp16_18deg_YPD, spp382_YPD, YS602_18_YPD2, dbr1d_YPD, \n",
    "                  sqs1d_YPD, snR45d_YPD, mutant448_2, snR4d_alpha_YPD, \n",
    "                  WT_YPD2, WT_YPD3, prx1, YS602_18_YPD3, prp43_2, Dbp3d_YPD2, prx1_2] \n",
    "all_labels = [\"CBF5GAL\", \"CBF5GLU\", \"NOP58GAL\", \"NOP58GLU\", \"IVT\", \"mutant448\",\n",
    "              \"WT_YPD\", \"WT_KOAC\", \"mutant452\", \"WT_CY\", \"mutant451\", \n",
    "              \"WT_stationary\", \"Dbp3d_YPD\", \"WT_rapa5\", \"Mix\", \"prp43\",\n",
    "              \"MIX_2\", \"YS602_18_YPD\", \"prp16_18deg_YPD\", \"spp382_YPD\", \n",
    "              \"YS602_18_YPD2\", \"dbr1d_YPD\", \"sqs1d_YPD\", \n",
    "              \"snR45d_YPD\", \"mutant448_2\", \"snR4d_alpha_YPD\", \"WT_YPD2\", \n",
    "              \"WT_YPD3\", \"prx1\", \"YS602_18_YPD3\", \"prp43_2\", \"Dbp3d_YPD2\", \"prx1_2\"] \n",
    "\n",
    "# all_file_paths = [CBF5GAL, WT_YPD, IVT, WT_YPD2, WT_YPD3] \n",
    "# all_labels = [\"CBF5GAL\", \"WT_YPD\", \"IVT\", \"WT_YPD2\", \"WT_YPD3\"]\n",
    "\n",
    "print(len(all_labels), len(all_file_paths))"
   ]
  },
  {
   "cell_type": "code",
   "execution_count": 4,
   "metadata": {},
   "outputs": [],
   "source": [
    "vc = VariantCalls(all_file_paths, all_labels, color_map=\"tab20\")\n"
   ]
  },
  {
   "cell_type": "code",
   "execution_count": null,
   "metadata": {},
   "outputs": [],
   "source": [
    "percent_mod_path = \"figures/summary_data/all_experiment_mod_percents.csv\"\n",
    "vc.write_experiment_percent_modified(percent_mod_path)"
   ]
  },
  {
   "cell_type": "code",
   "execution_count": null,
   "metadata": {},
   "outputs": [],
   "source": [
    "# correlation_dir = \"figures/correlation_plots\"\n",
    "# Path(correlation_dir).mkdir(parents=True, exist_ok=True)\n",
    "# vc.plot_all_plot_ld_heatmap(correlation_dir, stat=\"spearman\", vmax=1, vmin=-1)"
   ]
  },
  {
   "cell_type": "code",
   "execution_count": null,
   "metadata": {},
   "outputs": [],
   "source": [
    "# dendrogram_dir = \"figures/dendrogram_plots\"\n",
    "# Path(dendrogram_dir).mkdir(parents=True, exist_ok=True)\n",
    "# vc.plot_all_heatmap_dendrograms(dendrogram_dir, figsize=(30, 10))\n"
   ]
  },
  {
   "cell_type": "markdown",
   "metadata": {},
   "source": [
    "# Chi -square tests"
   ]
  },
  {
   "cell_type": "code",
   "execution_count": null,
   "metadata": {},
   "outputs": [],
   "source": [
    "from scipy.stats import chi2_contingency"
   ]
  },
  {
   "cell_type": "code",
   "execution_count": null,
   "metadata": {},
   "outputs": [],
   "source": [
    "chi2_pvalues = []\n",
    "\n",
    "wt_labels = [\"WT_YPD\", \"WT_YPD2\", \"WT_YPD3\"]\n",
    "_18S_X = vc.get_X(\"RDN18-1\", vc.get_contig_positions(\"RDN18-1\"))\n",
    "_25S_X = vc.get_X(\"RDN25-1\", vc.get_contig_positions(\"RDN25-1\"))\n",
    "\n",
    "\n",
    "twice = 0\n",
    "for label in all_labels:\n",
    "    contig_chi2_data = []\n",
    "    percent_mods_data = []\n",
    "\n",
    "    for contig in [\"RDN18-1\", \"RDN25-1\"]:\n",
    "        if contig == \"RDN18-1\":\n",
    "            X = _18S_X.xs(label, level=\"label\")\n",
    "        else:\n",
    "            X = _25S_X.xs(label, level=\"label\")\n",
    "        # means\n",
    "        percent_mods = (X >= 0.5).mean()\n",
    "        percent_mods_df = pd.DataFrame(percent_mods, index=X.columns, columns=[f\"{label}_mean\"])\n",
    "        percent_mods_data.append(percent_mods_df)\n",
    "        \n",
    "        X_n_reads = len(X)\n",
    "        X_mod = (X >= 0.5).sum() \n",
    "        X_unmod = X_n_reads - X_mod\n",
    "        # deal with zeros\n",
    "        X_mod[X_mod == 0] += 1\n",
    "        X_unmod[X_unmod == 0] += 1\n",
    "\n",
    "        \n",
    "        all_comparisons_df = [X_mod, X_unmod]\n",
    "        for wt in wt_labels:\n",
    "            if contig == \"RDN18-1\":\n",
    "                wt_X = _18S_X.xs(wt, level=\"label\")\n",
    "            else:\n",
    "                wt_X = _25S_X.xs(wt, level=\"label\")\n",
    "            wt_n_reads = len(wt_X)\n",
    "            wt_mod = (wt_X >= 0.5).sum() \n",
    "            wt_unmod = wt_n_reads - wt_mod\n",
    "            # deal with zeros\n",
    "            wt_mod[wt_mod == 0] += 1\n",
    "            wt_unmod[wt_unmod == 0] += 1\n",
    "\n",
    "            all_comparisons_df.extend([wt_mod, wt_unmod])\n",
    "            \n",
    "        df = pd.concat(all_comparisons_df, axis=1)\n",
    "        p_values = df.apply(lambda row: \n",
    "                              [chi2_contingency([row[[0,1]], row[[2,3]]])[1],\n",
    "                               chi2_contingency([row[[0,1]], row[[4,5]]])[1],\n",
    "                               chi2_contingency([row[[0,1]], row[[6,7]]])[1]],\n",
    "                            axis=1, result_type=\"expand\")\n",
    "        p_values = p_values.rename(columns={0:f\"{label}_pvalue1\", 1:f\"{label}_pvalue2\", 2:f\"{label}_pvalue3\"})\n",
    "        if twice < 2:\n",
    "            p_values[\"contig\"] = contig\n",
    "            twice += 1\n",
    "        contig_chi2_data.append(p_values)\n",
    "    chi2_pvalues.append(pd.concat(contig_chi2_data))\n",
    "    chi2_pvalues.append(pd.concat(percent_mods_data))\n",
    "\n",
    "chi2_pvalues_df = pd.concat(chi2_pvalues, axis=1, join=\"inner\")"
   ]
  },
  {
   "cell_type": "code",
   "execution_count": null,
   "metadata": {},
   "outputs": [],
   "source": [
    "method=\"fdr_bh\"\n",
    "corrected_chi2_pvalues_df = {}\n",
    "for label in all_labels:\n",
    "    max_pvalues = chi2_pvalues_df[[f\"{label}_pvalue1\", f\"{label}_pvalue2\", f\"{label}_pvalue3\"]].T.max()\n",
    "    reject, pvalues, _, _ = multipletests(max_pvalues, method=method)\n",
    "    corrected_chi2_pvalues_df[f\"{label}_corrected_pvalue\"] = pvalues\n",
    "    corrected_chi2_pvalues_df[f\"{label}_mean\"] = chi2_pvalues_df[f\"{label}_mean\"]\n",
    "    corrected_chi2_pvalues_df[f\"{label}_pvalue\"] = max_pvalues\n",
    "\n",
    "corrected_chi2_pvalues_df = pd.DataFrame(corrected_chi2_pvalues_df, index=chi2_pvalues_df.index)\n",
    "corrected_chi2_pvalues_df[\"contig\"] = chi2_pvalues_df[\"contig\"]"
   ]
  },
  {
   "cell_type": "code",
   "execution_count": null,
   "metadata": {},
   "outputs": [],
   "source": [
    "import itertools\n",
    "\n",
    "column_order = [\"contig\"]\n",
    "list_of_list_of_columns = [[f\"{x}_mean\", f\"{x}_pvalue\", f\"{x}_corrected_pvalue\",] for x in all_labels]\n",
    "list_of_columns = list(itertools.chain(*list_of_list_of_columns))\n",
    "\n",
    "column_order.extend(list_of_columns)\n",
    "a = corrected_chi2_pvalues_df\n",
    "a.index = corrected_chi2_pvalues_df.index + 1\n",
    "a[column_order].to_csv(\"figures/summary_data/all_experiment_percent_modification_corrected_pvalues_chi2.csv\")"
   ]
  },
  {
   "cell_type": "markdown",
   "metadata": {},
   "source": [
    "# correlation data"
   ]
  },
  {
   "cell_type": "code",
   "execution_count": 5,
   "metadata": {},
   "outputs": [
    {
     "data": {
      "text/plain": [
       "True"
      ]
     },
     "execution_count": 5,
     "metadata": {},
     "output_type": "execute_result"
    }
   ],
   "source": [
    "correlations_mod_path = \"figures/summary_data/all_experiment_correlations.csv\"\n",
    "vc.write_correlations(correlations_mod_path, stat=\"spearman\")\n"
   ]
  },
  {
   "cell_type": "code",
   "execution_count": 6,
   "metadata": {},
   "outputs": [],
   "source": [
    "from collections import defaultdict\n",
    "n_read_data = defaultdict(dict)\n",
    "for contig in [\"RDN18-1\", \"RDN25-1\"]:\n",
    "    X = vc.get_X(contig, vc.get_contig_positions(contig)) \n",
    "    full_length = X.index.get_level_values(1)\n",
    "    for label in all_labels:\n",
    "        n_read_data[label][contig] = len(full_length[full_length==label])    \n",
    "\n"
   ]
  },
  {
   "cell_type": "code",
   "execution_count": 7,
   "metadata": {},
   "outputs": [
    {
     "data": {
      "text/plain": [
       "defaultdict(dict,\n",
       "            {'CBF5GAL': {'RDN18-1': 232, 'RDN25-1': 109},\n",
       "             'CBF5GLU': {'RDN18-1': 488, 'RDN25-1': 520},\n",
       "             'NOP58GAL': {'RDN18-1': 454, 'RDN25-1': 185},\n",
       "             'NOP58GLU': {'RDN18-1': 693, 'RDN25-1': 934},\n",
       "             'IVT': {'RDN18-1': 1152, 'RDN25-1': 631},\n",
       "             'mutant448': {'RDN18-1': 505, 'RDN25-1': 274},\n",
       "             'WT_YPD': {'RDN18-1': 2052, 'RDN25-1': 1259},\n",
       "             'WT_KOAC': {'RDN18-1': 4045, 'RDN25-1': 1889},\n",
       "             'mutant452': {'RDN18-1': 2102, 'RDN25-1': 1451},\n",
       "             'WT_CY': {'RDN18-1': 1574, 'RDN25-1': 835},\n",
       "             'mutant451': {'RDN18-1': 3711, 'RDN25-1': 2084},\n",
       "             'WT_stationary': {'RDN18-1': 750, 'RDN25-1': 453},\n",
       "             'Dbp3d_YPD': {'RDN18-1': 2938, 'RDN25-1': 1180},\n",
       "             'WT_rapa5': {'RDN18-1': 2065, 'RDN25-1': 1187},\n",
       "             'Mix': {'RDN18-1': 377, 'RDN25-1': 188},\n",
       "             'prp43': {'RDN18-1': 2827, 'RDN25-1': 1324},\n",
       "             'MIX_2': {'RDN18-1': 5639, 'RDN25-1': 2330},\n",
       "             'YS602_18_YPD': {'RDN18-1': 863, 'RDN25-1': 334},\n",
       "             'prp16_18deg_YPD': {'RDN18-1': 4243, 'RDN25-1': 2251},\n",
       "             'spp382_YPD': {'RDN18-1': 4285, 'RDN25-1': 1821},\n",
       "             'YS602_18_YPD2': {'RDN18-1': 7263, 'RDN25-1': 3161},\n",
       "             'dbr1d_YPD': {'RDN18-1': 4379, 'RDN25-1': 1446},\n",
       "             'sqs1d_YPD': {'RDN18-1': 5290, 'RDN25-1': 2017},\n",
       "             'snR45d_YPD': {'RDN18-1': 1415, 'RDN25-1': 590},\n",
       "             'mutant448_2': {'RDN18-1': 1159, 'RDN25-1': 539},\n",
       "             'snR4d_alpha_YPD': {'RDN18-1': 2958, 'RDN25-1': 1487},\n",
       "             'WT_YPD2': {'RDN18-1': 5180, 'RDN25-1': 2428},\n",
       "             'WT_YPD3': {'RDN18-1': 6648, 'RDN25-1': 2870},\n",
       "             'prx1': {'RDN18-1': 7007, 'RDN25-1': 2586},\n",
       "             'YS602_18_YPD3': {'RDN18-1': 3059, 'RDN25-1': 1225},\n",
       "             'prp43_2': {'RDN18-1': 2670, 'RDN25-1': 800},\n",
       "             'Dbp3d_YPD2': {'RDN18-1': 7361, 'RDN25-1': 4091},\n",
       "             'prx1_2': {'RDN18-1': 4475, 'RDN25-1': 1532}})"
      ]
     },
     "execution_count": 7,
     "metadata": {},
     "output_type": "execute_result"
    }
   ],
   "source": [
    "n_read_data"
   ]
  },
  {
   "cell_type": "code",
   "execution_count": 8,
   "metadata": {},
   "outputs": [],
   "source": [
    "def correlation_significance_test(c1, c2, n1=1000, n2=1000):\n",
    "    #fisher transformation\n",
    "    z1 = np.arctanh(c1)\n",
    "    z2 = np.arctanh(c2)\n",
    "    # standard error\n",
    "    se = np.sqrt((1.06/(n1-3)) + (1.06/(n2-3)))\n",
    "    z = (z1 - z2) / se\n",
    "    prob = 2 * norm.sf(np.abs(z))\n",
    "    return prob"
   ]
  },
  {
   "cell_type": "code",
   "execution_count": 9,
   "metadata": {},
   "outputs": [],
   "source": [
    "corr = pd.read_csv(correlations_mod_path)\n",
    "all_corr_labels = [x for x in corr.columns if \"corr\" in x]\n",
    "all_pvalues = [x for x in corr.columns if \"pvalue\" in x]\n"
   ]
  },
  {
   "cell_type": "code",
   "execution_count": 10,
   "metadata": {},
   "outputs": [],
   "source": [
    "method=\"fdr_bh\"\n",
    "corrected_values = {}\n",
    "for label in all_labels:\n",
    "    reject, pvalues, _, _ = multipletests(corr[f\"{label}_pvalue\"], method=method)\n",
    "    corr[f\"{label}_corrected_pvalue\"] = pvalues"
   ]
  },
  {
   "cell_type": "code",
   "execution_count": 11,
   "metadata": {},
   "outputs": [],
   "source": [
    "method=\"fdr_bh\"\n",
    "\n",
    "all_data = corr\n",
    "for compare in [\"WT_YPD\", \"IVT\", \"WT_YPD2\", \"WT_YPD3\"]:\n",
    "    comparison_pvalues = []\n",
    "    for label in all_labels:\n",
    "        contig_dfs = []\n",
    "        for contig in [\"RDN18-1\", \"RDN25-1\"]:\n",
    "            contig_corr = corr[corr[\"contig\"]==contig]\n",
    "            pvalues = contig_corr.apply(lambda row: \n",
    "                                  correlation_significance_test(\n",
    "                                      row[label+\"_corr\"], \n",
    "                                      row[f'{compare}_corr'],\n",
    "                                      n_read_data[label][contig],\n",
    "                                      n_read_data[compare][contig]),\n",
    "                                  axis=1)\n",
    "\n",
    "            reject, corrected_pvalues, _, _ = multipletests(pvalues, method=method)\n",
    "            contig_df = pd.DataFrame({f\"{label}_{compare}_comparison_pvalue\": pvalues.values, \n",
    "                          f\"{label}_corrected_{compare}_comparison_pvalue\": corrected_pvalues}, index=contig_corr.index)\n",
    "            contig_dfs.append(contig_df)\n",
    "#             contig_dfs.append(pd.DataFrame(corrected_pvalues, index=contig_corr.index, columns=[f\"{label}_corrected_{compare}_comparison_pvalue\"]))\n",
    "        comparison_pvalues.append(pd.concat(contig_dfs))\n",
    "    comparison_pvalues_df = pd.concat(comparison_pvalues, axis=1, join=\"inner\")\n",
    "    all_data = pd.concat([all_data, comparison_pvalues_df], axis=1)"
   ]
  },
  {
   "cell_type": "code",
   "execution_count": 12,
   "metadata": {},
   "outputs": [],
   "source": [
    "column_order = [\"ref_index1\", \"ref_index2\", \"contig\"]\n",
    "list_of_list_of_columns = [[f\"{x}_corr\", f\"{x}_pvalue\", f\"{x}_corrected_pvalue\", f\"{x}_WT_YPD_comparison_pvalue\", f\"{x}_IVT_comparison_pvalue\", f\"{x}_WT_YPD2_comparison_pvalue\", f\"{x}_WT_YPD3_comparison_pvalue\", f\"{x}_corrected_WT_YPD_comparison_pvalue\", f\"{x}_corrected_IVT_comparison_pvalue\", f\"{x}_corrected_WT_YPD2_comparison_pvalue\", f\"{x}_corrected_WT_YPD3_comparison_pvalue\"] for x in all_labels]\n",
    "list_of_columns = list(itertools.chain(*list_of_list_of_columns))\n",
    "\n",
    "column_order.extend(list_of_columns)\n",
    "all_data[column_order].to_csv(\"figures/summary_data/all_experiment_correlations_corrected_pvalues.csv\")"
   ]
  },
  {
   "cell_type": "code",
   "execution_count": null,
   "metadata": {},
   "outputs": [],
   "source": []
  }
 ],
 "metadata": {
  "kernelspec": {
   "display_name": "read_clustering",
   "language": "python",
   "name": "read_clustering"
  },
  "language_info": {
   "codemirror_mode": {
    "name": "ipython",
    "version": 3
   },
   "file_extension": ".py",
   "mimetype": "text/x-python",
   "name": "python",
   "nbconvert_exporter": "python",
   "pygments_lexer": "ipython3",
   "version": "3.7.7"
  }
 },
 "nbformat": 4,
 "nbformat_minor": 2
}
