{
 "cells": [
  {
   "cell_type": "code",
   "execution_count": 1,
   "metadata": {},
   "outputs": [
    {
     "name": "stderr",
     "output_type": "stream",
     "text": [
      "/Users/andrewbailey/anaconda3/envs/read_clustering/lib/python3.7/site-packages/umap/__init__.py:9: UserWarning: Tensorflow not installed; ParametricUMAP will be unavailable\n",
      "  warn(\"Tensorflow not installed; ParametricUMAP will be unavailable\")\n",
      "/Users/andrewbailey/anaconda3/envs/read_clustering/lib/python3.7/site-packages/sklearn/utils/deprecation.py:143: FutureWarning: The sklearn.metrics.classification module is  deprecated in version 0.22 and will be removed in version 0.24. The corresponding classes / functions should instead be imported from sklearn.metrics. Anything that cannot be imported from sklearn.metrics is now part of the private API.\n",
      "  warnings.warn(message, FutureWarning)\n"
     ]
    }
   ],
   "source": [
    "import pandas as pd\n",
    "import numpy as np\n",
    "# from scipy.stats import pearsonr, median_abs_deviation\n",
    "# from sklearn import metrics\n",
    "import sys\n",
    "import os\n",
    "from statsmodels.stats.multitest import multipletests\n",
    "from scipy.stats import combine_pvalues, norm, mannwhitneyu, spearmanr, pearsonr\n",
    "from read_clustering.variant_call import VariantCalls\n",
    "import matplotlib.pyplot as plt\n",
    "from scipy.stats import shapiro, combine_pvalues\n",
    "import seaborn as sns\n",
    "import re\n",
    "import matplotlib.pyplot as plt\n",
    "import matplotlib as mpl\n",
    "import matplotlib.patches as mpatches\n",
    "from scipy.stats import combine_pvalues, norm, mannwhitneyu\n",
    "from scipy.stats import chi2_contingency\n",
    "from EmpiricalBrownsMethod import EmpiricalBrownsMethod"
   ]
  },
  {
   "cell_type": "code",
   "execution_count": 2,
   "metadata": {},
   "outputs": [],
   "source": [
    "# final ivt vs native\n",
    "CBF5GAL = \"modification_calls/20190610_R941_CBF5GAL.csv\"\n",
    "CBF5GLU = \"modification_calls/20190611_R941_CBF5GLU.csv\"\n",
    "NOP58GAL = \"modification_calls/20190617_R941_NOP58GAL.csv\"\n",
    "NOP58GLU = \"modification_calls/20190619_R941_NOP58GLU.csv\"\n",
    "IVT = \"modification_calls/20191014_R941_IVT.csv\"\n",
    "mutant448 = \"modification_calls/20210405_R941_mutant448.csv\"\n",
    "WT_YPD = \"modification_calls/20210410_R941_WT_YPD.csv\"\n",
    "WT_KOAC = \"modification_calls/20210412_R941_WT_KOAC.csv\"\n",
    "mutant452 = \"modification_calls/20210413_R941_mutant452.csv\"\n",
    "WT_CY = \"modification_calls/20210414_R941_WT_CY.csv\"\n",
    "mutant451 = \"modification_calls/20210415_R941_mutant451.csv\"\n",
    "WT_PB = \"modification_calls/20210520_R941_WT_PB.csv\"\n",
    "WT_stationary = \"modification_calls/20210521_R941_WT_stationary.csv\"\n",
    "Dbp3d_YPD = \"modification_calls/20210527_R941_Dbp3d_YPD.csv\"\n",
    "trl1d_YPD = \"modification_calls/20210528_R941_trl1d_YPD.csv\"\n",
    "WT_rapa5 = \"modification_calls/20210531_R941_WT_rapa5.csv\"\n",
    "Mix = \"modification_calls/20210618_R941_Mix.csv\"\n",
    "prp43 = \"modification_calls/20210619_R941_prp43.csv\"\n",
    "MIX_2 = \"modification_calls/20210716_R941_MIX.csv\"\n",
    "YS602_18_YPD = \"modification_calls/20210717_R941_YS602_18_YPD.csv\"\n",
    "prp16_18deg_YPD = \"modification_calls/20210719_R941_prp16_18deg_YPD.csv\"\n",
    "spp382_YPD = \"modification_calls/20210720_R941_spp382_YPD.csv\"\n",
    "YS602_18_YPD2 = \"modification_calls/20210722_R941_YS602_18_YPD2.csv\"\n",
    "dbr1d_YPD = \"modification_calls/20210729_R941_dbr1d_YPD.csv\"\n",
    "sqs1d_YPD = \"modification_calls/20210730_R941_sqs1d_YPD.csv\"\n",
    "snR4d_YPD = \"modification_calls/20210823_R941_snR4d_YPD.csv\"\n",
    "snR45d_YPD = \"modification_calls/20210824_R941_snR45d_YPD.csv\"\n",
    "mutant448_2 = \"modification_calls/20210825_R941_mutant448.csv\"\n",
    "snR4d_alpha_YPD = \"modification_calls/20210902_R941_snR4d_alpha_YPD.csv\"\n",
    "WT_YPD2 = \"modification_calls/20210930_R941_YS602_WT_repeat2.csv\"\n",
    "WT_YPD3 = \"modification_calls/20211001_R941_YS602_WT_repeat3.csv\"\n",
    "prx1 = \"modification_calls/20211006_R941_pxr1d_YPD.csv\"\n",
    "YS602_18_YPD3 = \"modification_calls/20211007_R941_YS602_18_YPD3.csv\"\n",
    "prp43_2 = \"modification_calls/20211008_R941_prp43_18deg_YPD_repeat2.csv\"\n",
    "Dbp3d_YPD2 = \"modification_calls/20211011_R941_dbp3d_YPD_repeat2.csv\"\n",
    "prx1_2 = \"modification_calls/20211021_pxr1d_YPD_repeat2.csv\"\n"
   ]
  },
  {
   "cell_type": "code",
   "execution_count": 3,
   "metadata": {},
   "outputs": [],
   "source": [
    "correlation_df = pd.read_csv(\"figures/summary_data/all_experiment_correlations_corrected_pvalues.csv\", \n",
    "                                   index_col=0)\n",
    "chi2_pvalues_df = pd.read_csv(\"figures/summary_data/all_experiment_percent_modification_corrected_pvalues_chi2.csv\", \n",
    "                                   index_col=0)\n"
   ]
  },
  {
   "cell_type": "code",
   "execution_count": 89,
   "metadata": {},
   "outputs": [],
   "source": [
    "def get_max_comparison_pvalues(labels, compare_labels=[\"WT_YPD\", \"WT_YPD2\", \"WT_YPD3\"]):\n",
    "    selections = []\n",
    "    for sample in labels:\n",
    "        for compare in compare_labels:\n",
    "            selections.append(f\"{sample}_{compare}_comparison_pvalue\")   \n",
    "    max_pvalues = np.max(correlation_df[selections], axis=1)\n",
    "    max_pvalues = np.array([x if x != 0 else 0.00000000001 for x in max_pvalues])\n",
    "    return max_pvalues\n",
    "\n",
    "# def get_comparison_pvalues(sample, compare):\n",
    "#     pvalues = correlation_df[f\"{sample}_{compare}_comparison_pvalue\"]\n",
    "#     pvalues = np.array([x if x != 0 else 0.00000000001 for x in pvalues])\n",
    "#     return pvalues\n",
    "\n",
    "def get_max_brown_pvalue(experiments, comparisons, mask):\n",
    "    brown_pvalues = []\n",
    "    for experiment in experiments:\n",
    "        for comparison in comparisons:\n",
    "            input_data = correlation_df[[f\"{experiment}_corr\", f\"{comparison}_corr\"]][mask]\n",
    "            pvalues = get_max_comparison_pvalues([experiment], compare_labels=comparisons)[mask]\n",
    "            brown_pvalue = EmpiricalBrownsMethod(input_data.to_numpy(), pvalues, extra_info = True)\n",
    "#             print(brown_pvalue)\n",
    "            brown_pvalues.append(brown_pvalue[0])\n",
    "    return np.max(brown_pvalues)\n"
   ]
  },
  {
   "cell_type": "markdown",
   "metadata": {},
   "source": [
    "# P-value calculations"
   ]
  },
  {
   "cell_type": "code",
   "execution_count": 90,
   "metadata": {},
   "outputs": [],
   "source": [
    "pseduo_u_pos = [775, 959, 965, 985, 989, 1003, 1041, 1051, 1055, 1109, 1123,\n",
    "                     2128, 2132, 2190, 2257, 2259, 2263, 2265, 2313, 2339, 2348, 2350,\n",
    "                     2415, 2734, 2825, 2864, 2879, 2922, 2943, 2974, 105, 119, 210, 301, 465, 631, 758, 765,\n",
    "                     998, 1180, 1186,\n",
    "                     1289, 1414]\n",
    "pseduo_u_pos = [x+1 for x in pseduo_u_pos]\n",
    "twoprimeo_pos = [648, 649, 662, 804, 806, 816, 866, 875, 897, 907, 1132,\n",
    "                      1436, 1448, 1449, 1887, 2196, 2219, 2255, 2279, 2280, 2287, 2336,\n",
    "                      2346, 2416, 2420, 2618, 2639, 2723, 2728, 2790, 2792, 2814, 2920,\n",
    "                      2921, 2945, 2947, 2958, 27, 99, 413, 419, 435, 540, 561, 577, 618, 795, 973,\n",
    "                      1006, 1125, 1268, 1270, 1427, 1571, 1638]\n",
    "twoprimeo_pos = [x+1 for x in twoprimeo_pos]\n"
   ]
  },
  {
   "cell_type": "markdown",
   "metadata": {},
   "source": [
    "## Depletions"
   ]
  },
  {
   "cell_type": "markdown",
   "metadata": {},
   "source": [
    "# Brown's test p-value\n",
    "https://academic.oup.com/bioinformatics/article/32/17/i430/2450768"
   ]
  },
  {
   "cell_type": "code",
   "execution_count": 91,
   "metadata": {
    "scrolled": true
   },
   "outputs": [
    {
     "name": "stdout",
     "output_type": "stream",
     "text": [
      "5.492161658647435e-05\n",
      "1.0\n"
     ]
    }
   ],
   "source": [
    "mask = (correlation_df[\"ref_index1\"].isin(pseduo_u_pos) & correlation_df[\"ref_index2\"].isin(pseduo_u_pos))\n",
    "comparisons = [\"WT_YPD\", \"WT_YPD2\", \"WT_YPD3\"]\n",
    "experiments = [\"CBF5GLU\"]\n",
    "print(get_max_brown_pvalue(experiments, comparisons, mask))\n",
    "mask = (~correlation_df[\"ref_index1\"].isin(pseduo_u_pos) & ~correlation_df[\"ref_index2\"].isin(pseduo_u_pos))\n",
    "print(get_max_brown_pvalue(experiments, comparisons, mask))\n"
   ]
  },
  {
   "cell_type": "code",
   "execution_count": 92,
   "metadata": {},
   "outputs": [
    {
     "name": "stdout",
     "output_type": "stream",
     "text": [
      "1.4970039431451155e-16\n",
      "0.999999999759188\n"
     ]
    }
   ],
   "source": [
    "mask = (correlation_df[\"ref_index1\"].isin(twoprimeo_pos) & correlation_df[\"ref_index2\"].isin(twoprimeo_pos))\n",
    "comparisons = [\"WT_YPD\", \"WT_YPD2\", \"WT_YPD3\"]\n",
    "experiments = [\"NOP58GLU\"]\n",
    "print(get_max_brown_pvalue(experiments, comparisons, mask))\n",
    "mask = (~correlation_df[\"ref_index1\"].isin(twoprimeo_pos) & ~correlation_df[\"ref_index2\"].isin(twoprimeo_pos))\n",
    "print(get_max_brown_pvalue(experiments, comparisons, mask))\n"
   ]
  },
  {
   "cell_type": "code",
   "execution_count": 93,
   "metadata": {},
   "outputs": [
    {
     "name": "stdout",
     "output_type": "stream",
     "text": [
      "2.2502355315796776e-05\n"
     ]
    }
   ],
   "source": [
    "experiments = [\"NOP58GLU\"]\n",
    "mask = (correlation_df[\"ref_index1\"].isin([1280, 1773]) & correlation_df[\"ref_index2\"].isin(twoprimeo_pos))\n",
    "comparisons = [\"WT_YPD\", \"WT_YPD2\", \"WT_YPD3\"]\n",
    "print(get_max_brown_pvalue(experiments, comparisons, mask))"
   ]
  },
  {
   "cell_type": "code",
   "execution_count": 94,
   "metadata": {},
   "outputs": [
    {
     "name": "stdout",
     "output_type": "stream",
     "text": [
      "5.389532176727951e-07\n"
     ]
    }
   ],
   "source": [
    "experiments = [\"CBF5GLU\"]\n",
    "mask = (correlation_df[\"ref_index1\"].isin([1191]) & correlation_df[\"ref_index2\"].isin(pseduo_u_pos))\n",
    "comparisons = [\"WT_YPD\", \"WT_YPD2\", \"WT_YPD3\"]\n",
    "print(get_max_brown_pvalue(experiments, comparisons, mask))"
   ]
  },
  {
   "cell_type": "markdown",
   "metadata": {},
   "source": [
    "# Mixture and snoRNA KO's"
   ]
  },
  {
   "cell_type": "code",
   "execution_count": 99,
   "metadata": {},
   "outputs": [
    {
     "name": "stdout",
     "output_type": "stream",
     "text": [
      "3.509419606371858e-08\n",
      "[6.36098465e-16]\n"
     ]
    }
   ],
   "source": [
    "experiments = [\"Mix\", \"MIX_2\"]\n",
    "positions = [436, 759, 1290, 1415]\n",
    "\n",
    "mask = (correlation_df[\"ref_index1\"].isin(positions) & correlation_df[\"ref_index2\"].isin(positions))  \n",
    "one_mask = ~((correlation_df[\"ref_index1\"] == 1290) & (correlation_df[\"ref_index2\"] == 1415))\n",
    "mask = mask & one_mask\n",
    "comparisons = [\"WT_YPD\", \"WT_YPD2\", \"WT_YPD3\"]\n",
    "print(get_max_brown_pvalue(experiments, comparisons, mask))\n",
    "print(get_max_comparison_pvalues(experiments)[~one_mask])"
   ]
  },
  {
   "cell_type": "code",
   "execution_count": 96,
   "metadata": {},
   "outputs": [
    {
     "data": {
      "text/plain": [
       "reference_index\n",
       "436     6.037790e-15\n",
       "759     2.313304e-34\n",
       "1290    2.313304e-34\n",
       "1415    3.961028e-05\n",
       "dtype: float64"
      ]
     },
     "execution_count": 96,
     "metadata": {},
     "output_type": "execute_result"
    }
   ],
   "source": [
    "chi2_pvalues_df.loc[[436, 759, 1290, 1415]][[\"Mix_corrected_pvalue\", \"MIX_2_corrected_pvalue\"]].max(axis=1)"
   ]
  },
  {
   "cell_type": "code",
   "execution_count": 97,
   "metadata": {},
   "outputs": [],
   "source": [
    "MIX = chi2_pvalues_df[\"MIX_2_mean\"][[436, 759, 1290, 1415]]\n",
    "WT = chi2_pvalues_df[\"WT_YPD_mean\"][[436, 759, 1290, 1415]]\n",
    "WT2 = chi2_pvalues_df[\"WT_YPD2_mean\"][[436, 759, 1290, 1415]]\n",
    "WT3 = chi2_pvalues_df[\"WT_YPD3_mean\"][[436, 759, 1290, 1415]]"
   ]
  },
  {
   "cell_type": "code",
   "execution_count": 98,
   "metadata": {},
   "outputs": [
    {
     "data": {
      "text/html": [
       "<div>\n",
       "<style scoped>\n",
       "    .dataframe tbody tr th:only-of-type {\n",
       "        vertical-align: middle;\n",
       "    }\n",
       "\n",
       "    .dataframe tbody tr th {\n",
       "        vertical-align: top;\n",
       "    }\n",
       "\n",
       "    .dataframe thead th {\n",
       "        text-align: right;\n",
       "    }\n",
       "</style>\n",
       "<table border=\"1\" class=\"dataframe\">\n",
       "  <thead>\n",
       "    <tr style=\"text-align: right;\">\n",
       "      <th>reference_index</th>\n",
       "      <th>436</th>\n",
       "      <th>759</th>\n",
       "      <th>1290</th>\n",
       "      <th>1415</th>\n",
       "    </tr>\n",
       "  </thead>\n",
       "  <tbody>\n",
       "    <tr>\n",
       "      <th>0</th>\n",
       "      <td>-0.163803</td>\n",
       "      <td>-0.228544</td>\n",
       "      <td>-0.185225</td>\n",
       "      <td>-0.141084</td>\n",
       "    </tr>\n",
       "    <tr>\n",
       "      <th>1</th>\n",
       "      <td>-0.176463</td>\n",
       "      <td>-0.230526</td>\n",
       "      <td>-0.202300</td>\n",
       "      <td>-0.134405</td>\n",
       "    </tr>\n",
       "    <tr>\n",
       "      <th>2</th>\n",
       "      <td>-0.171986</td>\n",
       "      <td>-0.243004</td>\n",
       "      <td>-0.199668</td>\n",
       "      <td>-0.161221</td>\n",
       "    </tr>\n",
       "  </tbody>\n",
       "</table>\n",
       "</div>"
      ],
      "text/plain": [
       "reference_index      436       759       1290      1415\n",
       "0               -0.163803 -0.228544 -0.185225 -0.141084\n",
       "1               -0.176463 -0.230526 -0.202300 -0.134405\n",
       "2               -0.171986 -0.243004 -0.199668 -0.161221"
      ]
     },
     "execution_count": 98,
     "metadata": {},
     "output_type": "execute_result"
    }
   ],
   "source": [
    "pd.DataFrame([(MIX - WT), (MIX - WT2), (MIX - WT3)])"
   ]
  },
  {
   "cell_type": "markdown",
   "metadata": {},
   "source": [
    "## Wild Type"
   ]
  },
  {
   "cell_type": "code",
   "execution_count": 100,
   "metadata": {},
   "outputs": [
    {
     "name": "stdout",
     "output_type": "stream",
     "text": [
      "100 436 0.0003173944331567858\n",
      "100 632 0.9445677763941264\n",
      "100 766 0.13941750432532907\n",
      "100 1639 0.3287868129604332\n",
      "100 1773 0.3523166141703712\n",
      "436 632 0.04141432857375133\n",
      "436 766 0.3514259925240414\n",
      "436 1639 0.2610225602126527\n",
      "436 1773 0.007950229580684136\n",
      "632 766 0.00013240582931339312\n",
      "632 1639 0.7916627015210821\n",
      "632 1773 0.1165595492621404\n",
      "766 1639 0.05725470177481661\n",
      "766 1773 0.9054841799047364\n",
      "1639 1773 4.547813599123047e-06\n"
     ]
    }
   ],
   "source": [
    "experiment = \"WT_YPD\"\n",
    "pos = [632, 766, 100 ,436, 1773, 1639]\n",
    "max_pvalues = get_max_comparison_pvalues([\"WT_YPD\", \"WT_YPD2\", \"WT_YPD3\"], compare_labels=[\"IVT\"])\n",
    "\n",
    "for index in range(len(correlation_df)):\n",
    "    data = correlation_df.iloc[index]\n",
    "    ref_index1 = data[\"ref_index1\"]\n",
    "    ref_index2 = data[\"ref_index2\"]\n",
    "    if ref_index1 in pos and ref_index2 in pos:\n",
    "        print(ref_index1, ref_index2, max_pvalues[index])\n"
   ]
  },
  {
   "cell_type": "code",
   "execution_count": 101,
   "metadata": {},
   "outputs": [
    {
     "name": "stdout",
     "output_type": "stream",
     "text": [
      "1.0454393166593538e-44\n",
      "(9.651121925119254e-43, 6.434476248597971e-62, 1.4804530139182013, 4.052813526395046, 300.4865624048362)\n"
     ]
    }
   ],
   "source": [
    "experiments = [\"WT_YPD\", \"WT_YPD2\", \"WT_YPD3\"]\n",
    "positions = [1437, 1449, 1450]\n",
    "mask = (correlation_df[\"ref_index1\"].isin(positions) & correlation_df[\"ref_index2\"].isin(positions))  \n",
    "comparisons = [\"IVT\"]\n",
    "print(get_max_brown_pvalue(experiments, comparisons, mask))"
   ]
  },
  {
   "cell_type": "markdown",
   "metadata": {},
   "source": [
    "## RNA helicases"
   ]
  },
  {
   "cell_type": "code",
   "execution_count": 102,
   "metadata": {},
   "outputs": [
    {
     "name": "stdout",
     "output_type": "stream",
     "text": [
      "3.5794266188591064e-68\n",
      "817 908 2.3711432447091034e-33\n",
      "817 2619 0.3181658027751019\n",
      "817 2724 0.19031140679634995\n",
      "908 2619 0.8378461466963627\n",
      "908 2724 0.5239310399298436\n",
      "2619 2724 3.4825501712230022e-22\n"
     ]
    }
   ],
   "source": [
    "experiments = [\"Dbp3d_YPD\", \"Dbp3d_YPD2\"]\n",
    "positions = [1437, 1449, 1450]\n",
    "mask = (correlation_df[\"ref_index1\"].isin(positions) & correlation_df[\"ref_index2\"].isin(positions))  \n",
    "comparisons = [\"WT_YPD\", \"WT_YPD2\", \"WT_YPD3\"]\n",
    "print(get_max_brown_pvalue(experiments, comparisons, mask))\n",
    "\n",
    "\n",
    "max_pvalues = get_max_comparison_pvalues(experiments)\n",
    "pos = [817, 908, 2619, 2724]\n",
    "for index in range(len(correlation_df)):\n",
    "    data = correlation_df.iloc[index]\n",
    "    ref_index1 = data[\"ref_index1\"]\n",
    "    ref_index2 = data[\"ref_index2\"]\n",
    "    if ref_index1 in pos and ref_index2 in pos:\n",
    "        print(ref_index1, ref_index2, max_pvalues[index])\n",
    "\n",
    "\n"
   ]
  },
  {
   "cell_type": "code",
   "execution_count": 103,
   "metadata": {},
   "outputs": [
    {
     "name": "stdout",
     "output_type": "stream",
     "text": [
      "3.5074823309232335e-11\n",
      "817 908 0.34584992246726376\n",
      "817 2619 0.8606628604773594\n",
      "817 2724 0.7854867938574578\n",
      "908 2619 0.8157770040743397\n",
      "908 2724 0.675727100323513\n",
      "2619 2724 0.9190410711366266\n"
     ]
    }
   ],
   "source": [
    "experiments = [\"prp43\", \"prp43_2\"]\n",
    "positions = [1437, 1449, 1450]\n",
    "mask = (correlation_df[\"ref_index1\"].isin(positions) & correlation_df[\"ref_index2\"].isin(positions))  \n",
    "comparisons = [\"WT_YPD\", \"WT_YPD2\", \"WT_YPD3\"]\n",
    "print(get_max_brown_pvalue(experiments, comparisons, mask))\n",
    "\n",
    "\n",
    "max_pvalues = get_max_comparison_pvalues(experiments)\n",
    "pos = [817, 908, 2619, 2724]\n",
    "for index in range(len(correlation_df)):\n",
    "    data = correlation_df.iloc[index]\n",
    "    ref_index1 = data[\"ref_index1\"]\n",
    "    ref_index2 = data[\"ref_index2\"]\n",
    "    if ref_index1 in pos and ref_index2 in pos:\n",
    "        print(ref_index1, ref_index2, max_pvalues[index])\n"
   ]
  },
  {
   "cell_type": "code",
   "execution_count": 104,
   "metadata": {},
   "outputs": [
    {
     "name": "stdout",
     "output_type": "stream",
     "text": [
      "1.8473122575755324e-55\n",
      "817 908 4.713263523264463e-17\n",
      "817 2619 0.19774066317101055\n",
      "817 2724 0.9330873895521664\n",
      "908 2619 0.9998619669966644\n",
      "908 2724 0.8373976768693838\n",
      "2619 2724 0.0007229056736246494\n"
     ]
    }
   ],
   "source": [
    "experiments = [\"prx1\", \"prx1_2\"]\n",
    "positions = [1437, 1449, 1450]\n",
    "mask = (correlation_df[\"ref_index1\"].isin(positions) & correlation_df[\"ref_index2\"].isin(positions))  \n",
    "comparisons = [\"WT_YPD\", \"WT_YPD2\", \"WT_YPD3\"]\n",
    "print(get_max_brown_pvalue(experiments, comparisons, mask))\n",
    "\n",
    "\n",
    "max_pvalues = get_max_comparison_pvalues(experiments)\n",
    "pos = [817, 908, 2619, 2724]\n",
    "for index in range(len(correlation_df)):\n",
    "    data = correlation_df.iloc[index]\n",
    "    ref_index1 = data[\"ref_index1\"]\n",
    "    ref_index2 = data[\"ref_index2\"]\n",
    "    if ref_index1 in pos and ref_index2 in pos:\n",
    "        print(ref_index1, ref_index2, max_pvalues[index])\n"
   ]
  }
 ],
 "metadata": {
  "kernelspec": {
   "display_name": "read_clustering",
   "language": "python",
   "name": "read_clustering"
  },
  "language_info": {
   "codemirror_mode": {
    "name": "ipython",
    "version": 3
   },
   "file_extension": ".py",
   "mimetype": "text/x-python",
   "name": "python",
   "nbconvert_exporter": "python",
   "pygments_lexer": "ipython3",
   "version": "3.7.7"
  }
 },
 "nbformat": 4,
 "nbformat_minor": 2
}
