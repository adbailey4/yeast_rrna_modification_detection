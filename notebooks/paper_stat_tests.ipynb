{
 "cells": [
  {
   "cell_type": "code",
   "execution_count": 1,
   "metadata": {},
   "outputs": [
    {
     "name": "stderr",
     "output_type": "stream",
     "text": [
      "/Users/andrewbailey/anaconda3/envs/read_clustering/lib/python3.7/site-packages/umap/__init__.py:9: UserWarning: Tensorflow not installed; ParametricUMAP will be unavailable\n",
      "  warn(\"Tensorflow not installed; ParametricUMAP will be unavailable\")\n",
      "/Users/andrewbailey/anaconda3/envs/read_clustering/lib/python3.7/site-packages/sklearn/utils/deprecation.py:143: FutureWarning: The sklearn.metrics.classification module is  deprecated in version 0.22 and will be removed in version 0.24. The corresponding classes / functions should instead be imported from sklearn.metrics. Anything that cannot be imported from sklearn.metrics is now part of the private API.\n",
      "  warnings.warn(message, FutureWarning)\n"
     ]
    }
   ],
   "source": [
    "import pandas as pd\n",
    "import numpy as np\n",
    "# from scipy.stats import pearsonr, median_abs_deviation\n",
    "# from sklearn import metrics\n",
    "import sys\n",
    "import os\n",
    "from statsmodels.stats.multitest import multipletests\n",
    "from scipy.stats import combine_pvalues, norm, mannwhitneyu, spearmanr, pearsonr\n",
    "from read_clustering.variant_call import VariantCalls\n",
    "import matplotlib.pyplot as plt\n",
    "from scipy.stats import shapiro, combine_pvalues\n",
    "import seaborn as sns\n",
    "import re\n",
    "import matplotlib.pyplot as plt\n",
    "import matplotlib as mpl\n",
    "import matplotlib.patches as mpatches\n",
    "from scipy.stats import combine_pvalues, norm, mannwhitneyu\n",
    "from scipy.stats import chi2_contingency"
   ]
  },
  {
   "cell_type": "code",
   "execution_count": 2,
   "metadata": {},
   "outputs": [],
   "source": [
    "# final ivt vs native\n",
    "CBF5GAL = \"modification_calls/20190610_R941_CBF5GAL.csv\"\n",
    "CBF5GLU = \"modification_calls/20190611_R941_CBF5GLU.csv\"\n",
    "NOP58GAL = \"modification_calls/20190617_R941_NOP58GAL.csv\"\n",
    "NOP58GLU = \"modification_calls/20190619_R941_NOP58GLU.csv\"\n",
    "IVT = \"modification_calls/20191014_R941_IVT.csv\"\n",
    "mutant448 = \"modification_calls/20210405_R941_mutant448.csv\"\n",
    "WT_YPD = \"modification_calls/20210410_R941_WT_YPD.csv\"\n",
    "WT_KOAC = \"modification_calls/20210412_R941_WT_KOAC.csv\"\n",
    "mutant452 = \"modification_calls/20210413_R941_mutant452.csv\"\n",
    "WT_CY = \"modification_calls/20210414_R941_WT_CY.csv\"\n",
    "mutant451 = \"modification_calls/20210415_R941_mutant451.csv\"\n",
    "WT_PB = \"modification_calls/20210520_R941_WT_PB.csv\"\n",
    "WT_stationary = \"modification_calls/20210521_R941_WT_stationary.csv\"\n",
    "Dbp3d_YPD = \"modification_calls/20210527_R941_Dbp3d_YPD.csv\"\n",
    "trl1d_YPD = \"modification_calls/20210528_R941_trl1d_YPD.csv\"\n",
    "WT_rapa5 = \"modification_calls/20210531_R941_WT_rapa5.csv\"\n",
    "Mix = \"modification_calls/20210618_R941_Mix.csv\"\n",
    "prp43 = \"modification_calls/20210619_R941_prp43.csv\"\n",
    "MIX_2 = \"modification_calls/20210716_R941_MIX.csv\"\n",
    "YS602_18_YPD = \"modification_calls/20210717_R941_YS602_18_YPD.csv\"\n",
    "prp16_18deg_YPD = \"modification_calls/20210719_R941_prp16_18deg_YPD.csv\"\n",
    "spp382_YPD = \"modification_calls/20210720_R941_spp382_YPD.csv\"\n",
    "YS602_18_YPD2 = \"modification_calls/20210722_R941_YS602_18_YPD2.csv\"\n",
    "dbr1d_YPD = \"modification_calls/20210729_R941_dbr1d_YPD.csv\"\n",
    "sqs1d_YPD = \"modification_calls/20210730_R941_sqs1d_YPD.csv\"\n",
    "snR4d_YPD = \"modification_calls/20210823_R941_snR4d_YPD.csv\"\n",
    "snR45d_YPD = \"modification_calls/20210824_R941_snR45d_YPD.csv\"\n",
    "mutant448_2 = \"modification_calls/20210825_R941_mutant448.csv\"\n",
    "snR4d_alpha_YPD = \"modification_calls/20210902_R941_snR4d_alpha_YPD.csv\"\n",
    "WT_YPD2 = \"modification_calls/20210930_R941_YS602_WT_repeat2.csv\"\n",
    "WT_YPD3 = \"modification_calls/20211001_R941_YS602_WT_repeat3.csv\"\n",
    "prx1 = \"modification_calls/20211006_R941_pxr1d_YPD.csv\"\n",
    "YS602_18_YPD3 = \"modification_calls/20211007_R941_YS602_18_YPD3.csv\"\n",
    "prp43_2 = \"modification_calls/20211008_R941_prp43_18deg_YPD_repeat2.csv\"\n",
    "Dbp3d_YPD2 = \"modification_calls/20211011_R941_dbp3d_YPD_repeat2.csv\"\n",
    "prx1_2 = \"modification_calls/20211021_pxr1d_YPD_repeat2.csv\"\n"
   ]
  },
  {
   "cell_type": "code",
   "execution_count": 3,
   "metadata": {},
   "outputs": [],
   "source": [
    "correlation_df = pd.read_csv(\"figures/summary_data/all_experiment_correlations_corrected_pvalues.csv\", \n",
    "                                   index_col=0)\n",
    "chi2_pvalues_df = pd.read_csv(\"figures/summary_data/all_experiment_percent_modification_corrected_pvalues_chi2.csv\", \n",
    "                                   index_col=0)\n"
   ]
  },
  {
   "cell_type": "code",
   "execution_count": 4,
   "metadata": {},
   "outputs": [],
   "source": [
    "def get_max_correlation_diff_pvalues(labels, contig, compare_labels=[\"WT_YPD\", \"WT_YPD2\", \"WT_YPD3\"], diff=True):\n",
    "    exp_pvalues = []\n",
    "    exp_comparison_pvalues = []\n",
    "    exp_diff_values = []\n",
    "    exp_corr = []\n",
    "    \n",
    "    if not isinstance(labels, list):\n",
    "        labels = [labels]        \n",
    "    \n",
    "    for label in labels:\n",
    "        for compare in compare_labels:\n",
    "            exp_comparison_pvalues.append(correlation_df[f\"{label}_corrected_{compare}_comparison_pvalue\"][correlation_df[\"contig\"] == contig])\n",
    "            exp_pvalues.append(correlation_df[f\"{label}_corrected_pvalue\"][correlation_df[\"contig\"] == contig])\n",
    "            exp_diff_values.append((correlation_df[f\"{label}_corr\"] - correlation_df[f\"{compare}_corr\"])[correlation_df[\"contig\"] == contig])\n",
    "            exp_corr.append((correlation_df[f\"{label}_corr\"])[correlation_df[\"contig\"] == contig])\n",
    "\n",
    "    all_diffs_df = pd.DataFrame(exp_diff_values)\n",
    "    all_pvalues_df = pd.DataFrame(exp_pvalues, index=list(range(len(exp_pvalues))))\n",
    "    all_comparison_pvalues_df = pd.DataFrame(exp_comparison_pvalues, index=list(range(len(exp_pvalues))))\n",
    "    all_exp_corr_df = pd.DataFrame(exp_corr, index=list(range(len(exp_pvalues))))\n",
    "    \n",
    "    per_position_index = np.abs(all_comparison_pvalues_df).idxmax()\n",
    "    exp_diff_values = pd.Series(all_diffs_df.lookup(per_position_index.values, per_position_index.index), index=per_position_index.index)\n",
    "    exp_comparison_pvalues = pd.Series(all_comparison_pvalues_df.lookup(per_position_index.values, per_position_index.index), index=per_position_index.index)\n",
    "\n",
    "\n",
    "    per_position_index = np.abs(all_pvalues_df).idxmax()\n",
    "    exp_pvalues = pd.Series(all_pvalues_df.lookup(per_position_index.values, per_position_index.index), index=per_position_index.index)\n",
    "    exp_corr_values = pd.Series(all_exp_corr_df.lookup(per_position_index.values, per_position_index.index), index=per_position_index.index)\n",
    "\n",
    "\n",
    "    exp_diff = correlation_df[[\"ref_index1\", \"ref_index2\"]][correlation_df[\"contig\"] == contig]\n",
    "    if diff:\n",
    "        exp_diff[\"corr_diff\"] = exp_diff_values\n",
    "    else:\n",
    "        exp_diff[\"corr_diff\"] = exp_corr_values\n",
    "\n",
    "    exp_diff = exp_diff.pivot(index=\"ref_index2\", columns='ref_index1', values='corr_diff')\n",
    "\n",
    "\n",
    "    mapper = list(set(correlation_df[\"ref_index1\"][correlation_df[\"contig\"] == contig]) | set(correlation_df[\"ref_index2\"][correlation_df[\"contig\"] == contig]))\n",
    "    mapper.sort()\n",
    "    return exp_diff, mapper, exp_pvalues, exp_comparison_pvalues\n"
   ]
  },
  {
   "cell_type": "markdown",
   "metadata": {},
   "source": [
    "# P-value calculations"
   ]
  },
  {
   "cell_type": "markdown",
   "metadata": {},
   "source": [
    "## Depletions"
   ]
  },
  {
   "cell_type": "code",
   "execution_count": 5,
   "metadata": {},
   "outputs": [],
   "source": [
    "pseduo_u_pos = [775, 959, 965, 985, 989, 1003, 1041, 1051, 1055, 1109, 1123,\n",
    "                     2128, 2132, 2190, 2257, 2259, 2263, 2265, 2313, 2339, 2348, 2350,\n",
    "                     2415, 2734, 2825, 2864, 2879, 2922, 2943, 2974, 105, 119, 210, 301, 465, 631, 758, 765,\n",
    "                     998, 1180, 1186,\n",
    "                     1289, 1414]\n",
    "twoprimeo_pos = [648, 649, 662, 804, 806, 816, 866, 875, 897, 907, 1132,\n",
    "                      1436, 1448, 1449, 1887, 2196, 2219, 2255, 2279, 2280, 2287, 2336,\n",
    "                      2346, 2416, 2420, 2618, 2639, 2723, 2728, 2790, 2792, 2814, 2920,\n",
    "                      2921, 2945, 2947, 2958, 27, 99, 413, 419, 435, 540, 561, 577, 618, 795, 973,\n",
    "                      1006, 1125, 1268, 1270, 1427, 1571, 1638]\n",
    "# https://keisan.casio.com/exec/system/1180573196"
   ]
  },
  {
   "cell_type": "code",
   "execution_count": 6,
   "metadata": {
    "scrolled": true
   },
   "outputs": [
    {
     "name": "stdout",
     "output_type": "stream",
     "text": [
      "13231.815112545999 0.0 819\n",
      "2357.141408426775 1.0 2475\n"
     ]
    }
   ],
   "source": [
    "exp_diff, mapper, exp_pvalues, exp_comparison_pvalues = get_max_correlation_diff_pvalues(\"NOP58GLU\", \"RDN18-1\")   \n",
    "exp_diff1, mapper1, exp_pvalues1, exp_comparison_pvalues1 = get_max_correlation_diff_pvalues(\"NOP58GLU\", \"RDN25-1\")   \n",
    "exp_pvalues = pd.concat([exp_pvalues1, exp_pvalues])\n",
    "exp_comparison_pvalues = pd.concat([exp_comparison_pvalues1, exp_comparison_pvalues])\n",
    "twoprimeo_pvalues = []\n",
    "other_pvalues = []\n",
    "for index in range(len(correlation_df)):\n",
    "    data = correlation_df.iloc[index]\n",
    "    ref_index1 = data[\"ref_index1\"]-1\n",
    "    ref_index2 = data[\"ref_index2\"]-1\n",
    "    if ref_index1 in twoprimeo_pos and ref_index2 in twoprimeo_pos:\n",
    "        twoprimeo_pvalues.append(np.max([exp_comparison_pvalues.iloc[index], exp_pvalues.iloc[index]]))\n",
    "#         twoprimeo_pvalues.append()\n",
    "    else:\n",
    "        other_pvalues.append(np.max([exp_comparison_pvalues.iloc[index], exp_pvalues.iloc[index] ]))\n",
    "\n",
    "statistic, pvalue = combine_pvalues(twoprimeo_pvalues)\n",
    "print(statistic, pvalue, len(twoprimeo_pvalues))\n",
    "statistic, pvalue = combine_pvalues(other_pvalues)\n",
    "print(statistic, pvalue, len(other_pvalues))\n"
   ]
  },
  {
   "cell_type": "code",
   "execution_count": 7,
   "metadata": {},
   "outputs": [
    {
     "name": "stdout",
     "output_type": "stream",
     "text": [
      "2127.1706837993975 3.4784703911390786e-79 513\n",
      "1661.0833883088205 1.0 2781\n"
     ]
    }
   ],
   "source": [
    "exp_diff, mapper, exp_pvalues, exp_comparison_pvalues = get_max_correlation_diff_pvalues(\"CBF5GLU\", \"RDN18-1\")   \n",
    "exp_diff1, mapper1, exp_pvalues1, exp_comparison_pvalues1 = get_max_correlation_diff_pvalues(\"CBF5GLU\", \"RDN25-1\")   \n",
    "exp_pvalues = pd.concat([exp_pvalues1, exp_pvalues])\n",
    "exp_comparison_pvalues = pd.concat([exp_comparison_pvalues1, exp_comparison_pvalues])\n",
    "\n",
    "pseudou_pvalues = []\n",
    "other_pvalues = []\n",
    "for index in range(len(correlation_df)):\n",
    "    data = correlation_df.iloc[index]\n",
    "    ref_index1 = data[\"ref_index1\"]-1\n",
    "    ref_index2 = data[\"ref_index2\"]-1\n",
    "    if ref_index1 in pseduo_u_pos and ref_index2 in pseduo_u_pos:\n",
    "        pseudou_pvalues.append(np.max([exp_comparison_pvalues.iloc[index], exp_pvalues.iloc[index] ]))\n",
    "    else:\n",
    "        other_pvalues.append(np.max([exp_comparison_pvalues.iloc[index], exp_pvalues.iloc[index] ]))\n",
    "\n",
    "statistic, pvalue = combine_pvalues(pseudou_pvalues)\n",
    "print(statistic, pvalue, len(pseudou_pvalues))\n",
    "statistic, pvalue = combine_pvalues(other_pvalues)\n",
    "print(statistic, pvalue, len(other_pvalues))"
   ]
  },
  {
   "cell_type": "code",
   "execution_count": 8,
   "metadata": {},
   "outputs": [
    {
     "name": "stdout",
     "output_type": "stream",
     "text": [
      "32.80980606685657 1.140737291240036e-05\n"
     ]
    }
   ],
   "source": [
    "exp_diff, mapper, exp_pvalues, exp_comparison_pvalues = get_max_correlation_diff_pvalues(\"NOP58GLU\", \"RDN18-1\")   \n",
    "exp_diff1, mapper1, exp_pvalues1, exp_comparison_pvalues1 = get_max_correlation_diff_pvalues(\"NOP58GLU\", \"RDN25-1\")   \n",
    "exp_pvalues = pd.concat([exp_pvalues1, exp_pvalues])\n",
    "exp_comparison_pvalues = pd.concat([exp_comparison_pvalues1, exp_comparison_pvalues])\n",
    "\n",
    "twoprimeo_pvalues = []\n",
    "other_pvalues = []\n",
    "for index in range(len(correlation_df)):\n",
    "    data = correlation_df.iloc[index]\n",
    "    ref_index1 = data[\"ref_index1\"]-1\n",
    "    ref_index2 = data[\"ref_index2\"]-1\n",
    "    if ref_index1 in [1772, 1279] and ref_index2 in twoprimeo_pos:\n",
    "        twoprimeo_pvalues.append(np.max([exp_comparison_pvalues.iloc[index], exp_pvalues.iloc[index]]))\n",
    "\n",
    "statistic, pvalue = combine_pvalues(twoprimeo_pvalues)\n",
    "print(statistic, pvalue)\n"
   ]
  },
  {
   "cell_type": "code",
   "execution_count": 10,
   "metadata": {},
   "outputs": [
    {
     "name": "stdout",
     "output_type": "stream",
     "text": [
      "30.22815485928323 4.397896651071692e-06\n"
     ]
    }
   ],
   "source": [
    "exp_diff, mapper, exp_pvalues, exp_comparison_pvalues = get_max_correlation_diff_pvalues(\"CBF5GLU\", \"RDN18-1\")   \n",
    "exp_diff1, mapper1, exp_pvalues1, exp_comparison_pvalues1 = get_max_correlation_diff_pvalues(\"CBF5GLU\", \"RDN25-1\")   \n",
    "exp_pvalues = pd.concat([exp_pvalues1, exp_pvalues])\n",
    "exp_comparison_pvalues = pd.concat([exp_comparison_pvalues1, exp_comparison_pvalues])\n",
    "\n",
    "twoprimeo_pvalues = []\n",
    "other_pvalues = []\n",
    "for index in range(len(correlation_df)):\n",
    "    data = correlation_df.iloc[index]\n",
    "    ref_index1 = data[\"ref_index1\"]-1\n",
    "    ref_index2 = data[\"ref_index2\"]-1\n",
    "    if ref_index1 in [1190] and ref_index2 in pseduo_u_pos:\n",
    "        twoprimeo_pvalues.append(np.max([exp_comparison_pvalues.iloc[index], exp_pvalues.iloc[index]]))\n",
    "\n",
    "statistic, pvalue = combine_pvalues(twoprimeo_pvalues)\n",
    "print(statistic, pvalue)\n"
   ]
  },
  {
   "cell_type": "markdown",
   "metadata": {},
   "source": [
    "# Mixture and snoRNA KO's"
   ]
  },
  {
   "cell_type": "code",
   "execution_count": 95,
   "metadata": {},
   "outputs": [
    {
     "name": "stdout",
     "output_type": "stream",
     "text": [
      "436 759\n",
      "436 1290\n",
      "436 1415\n",
      "759 1290\n",
      "759 1415\n",
      "1290 1415\n",
      "42.694166838608496 5.6397700883854446e-06 6\n",
      "[0.000334102469098484, 0.007653054862306545, 0.6346749046490494, 0.01566422448965682, 0.02108165633928185, 5.802674429543519e-14]\n"
     ]
    }
   ],
   "source": [
    "exp_diff, mapper, exp_pvalues, exp_comparison_pvalues = get_max_correlation_diff_pvalues([\"MIX_2\", \"Mix\"], \"RDN18-1\")   \n",
    "exp_diff1, mapper1, exp_pvalues1, exp_comparison_pvalues1 = get_max_correlation_diff_pvalues([\"MIX_2\", \"Mix\"], \"RDN25-1\")   \n",
    "exp_pvalues = pd.concat([exp_pvalues1, exp_pvalues])\n",
    "exp_comparison_pvalues = pd.concat([exp_comparison_pvalues1, exp_comparison_pvalues])\n",
    "pos = [436, 759, 1290, 1415]\n",
    "\n",
    "mix_pvalues = []\n",
    "other_pvalues = []\n",
    "for index in range(len(correlation_df)):\n",
    "    data = correlation_df.iloc[index]\n",
    "    ref_index1 = data[\"ref_index1\"]\n",
    "    ref_index2 = data[\"ref_index2\"]\n",
    "    if ref_index1 in pos and ref_index2 in pos:\n",
    "        print(ref_index1, ref_index2)\n",
    "        mix_pvalues.append(np.max([exp_comparison_pvalues.iloc[index], exp_pvalues.iloc[index]]))\n",
    "    else:\n",
    "        other_pvalues.append(np.max([exp_comparison_pvalues.iloc[index], exp_pvalues.iloc[index]]))\n",
    "\n",
    "statistic, pvalue = combine_pvalues(mix_pvalues[:-1])\n",
    "print(statistic, pvalue, len(mix_pvalues))\n",
    "print(mix_pvalues)"
   ]
  },
  {
   "cell_type": "code",
   "execution_count": 96,
   "metadata": {},
   "outputs": [],
   "source": [
    "MIX = chi2_pvalues_df[\"MIX_2_mean\"][[436, 759, 1290, 1415]]\n",
    "WT = chi2_pvalues_df[\"WT_YPD_mean\"][[436, 759, 1290, 1415]]\n",
    "WT2 = chi2_pvalues_df[\"WT_YPD2_mean\"][[436, 759, 1290, 1415]]\n",
    "WT3 = chi2_pvalues_df[\"WT_YPD3_mean\"][[436, 759, 1290, 1415]]"
   ]
  },
  {
   "cell_type": "code",
   "execution_count": 63,
   "metadata": {},
   "outputs": [
    {
     "data": {
      "text/html": [
       "<div>\n",
       "<style scoped>\n",
       "    .dataframe tbody tr th:only-of-type {\n",
       "        vertical-align: middle;\n",
       "    }\n",
       "\n",
       "    .dataframe tbody tr th {\n",
       "        vertical-align: top;\n",
       "    }\n",
       "\n",
       "    .dataframe thead th {\n",
       "        text-align: right;\n",
       "    }\n",
       "</style>\n",
       "<table border=\"1\" class=\"dataframe\">\n",
       "  <thead>\n",
       "    <tr style=\"text-align: right;\">\n",
       "      <th>reference_index</th>\n",
       "      <th>436</th>\n",
       "      <th>759</th>\n",
       "      <th>1290</th>\n",
       "      <th>1415</th>\n",
       "    </tr>\n",
       "  </thead>\n",
       "  <tbody>\n",
       "    <tr>\n",
       "      <th>0</th>\n",
       "      <td>-0.163803</td>\n",
       "      <td>-0.228544</td>\n",
       "      <td>-0.185225</td>\n",
       "      <td>-0.141084</td>\n",
       "    </tr>\n",
       "    <tr>\n",
       "      <th>1</th>\n",
       "      <td>-0.176463</td>\n",
       "      <td>-0.230526</td>\n",
       "      <td>-0.202300</td>\n",
       "      <td>-0.134405</td>\n",
       "    </tr>\n",
       "    <tr>\n",
       "      <th>2</th>\n",
       "      <td>-0.171986</td>\n",
       "      <td>-0.243004</td>\n",
       "      <td>-0.199668</td>\n",
       "      <td>-0.161221</td>\n",
       "    </tr>\n",
       "  </tbody>\n",
       "</table>\n",
       "</div>"
      ],
      "text/plain": [
       "reference_index      436       759       1290      1415\n",
       "0               -0.163803 -0.228544 -0.185225 -0.141084\n",
       "1               -0.176463 -0.230526 -0.202300 -0.134405\n",
       "2               -0.171986 -0.243004 -0.199668 -0.161221"
      ]
     },
     "execution_count": 63,
     "metadata": {},
     "output_type": "execute_result"
    }
   ],
   "source": [
    "pd.DataFrame([(MIX - WT), (MIX - WT2), (MIX - WT3)])"
   ]
  },
  {
   "cell_type": "markdown",
   "metadata": {},
   "source": [
    "## Wild Type"
   ]
  },
  {
   "cell_type": "code",
   "execution_count": 97,
   "metadata": {},
   "outputs": [],
   "source": [
    "exp_diff, mapper, exp_pvalues, exp_comparison_pvalues = get_max_correlation_diff_pvalues([\"WT_YPD\", \"WT_YPD2\", \"WT_YPD3\"], \"RDN18-1\", compare_labels=[\"IVT\"])   \n",
    "exp_diff1, mapper1, exp_pvalues1, exp_comparison_pvalues1 = get_max_correlation_diff_pvalues([\"WT_YPD\", \"WT_YPD2\", \"WT_YPD3\"], \"RDN25-1\", compare_labels=[\"IVT\"])     \n",
    "exp_pvalues = pd.concat([exp_pvalues1, exp_pvalues])\n",
    "exp_comparison_pvalues = pd.concat([exp_comparison_pvalues1, exp_comparison_pvalues])\n"
   ]
  },
  {
   "cell_type": "code",
   "execution_count": 99,
   "metadata": {},
   "outputs": [
    {
     "name": "stdout",
     "output_type": "stream",
     "text": [
      "100 436 0.005584536530788167 0.005584536530788167\n",
      "100 632 0.9969042473955798 0.9969042473955798\n",
      "100 766 0.4638187602088135 0.8676112083269425\n",
      "100 1639 0.6580502215314652 0.8033820585540702\n",
      "100 1773 0.6785647912251958 0.6785647912251958\n",
      "436 632 0.2145592258329473 0.9705677725542508\n",
      "436 766 0.6217280675751813 0.8151492175964206\n",
      "436 1639 0.5562825857971044 0.8840708649640368\n",
      "436 1773 0.06859652039098145 0.9917253261482758\n",
      "632 766 0.003079197888448077 0.003079197888448077\n",
      "632 1639 0.914400433800851 0.914400433800851\n",
      "632 1773 0.3949229699935684 0.8573184868270026\n",
      "766 1639 0.29634252489878593 0.5639528296160582\n",
      "766 1773 0.9800256155107528 0.9800256155107528\n",
      "1639 1773 0.00019617657556041245 0.0015845092513138285\n"
     ]
    }
   ],
   "source": [
    "pos = [632, 766, 100 ,436, 1773, 1639]\n",
    "\n",
    "for index in range(len(correlation_df)):\n",
    "    data = correlation_df.iloc[index]\n",
    "    ref_index1 = data[\"ref_index1\"]\n",
    "    ref_index2 = data[\"ref_index2\"]\n",
    "    if ref_index1 in pos and ref_index2 in pos:\n",
    "        print(ref_index1, ref_index2, exp_comparison_pvalues.iloc[index], np.max([exp_comparison_pvalues.iloc[index], exp_pvalues.iloc[index]]))\n"
   ]
  },
  {
   "cell_type": "code",
   "execution_count": 104,
   "metadata": {},
   "outputs": [
    {
     "name": "stdout",
     "output_type": "stream",
     "text": [
      "1437 1449 1.3237018945972188e-14 1.3237018945972188e-14\n",
      "1437 1450 1.952964055443689e-11 1.952964055443689e-11\n",
      "1449 1450 5.08165711416416e-37 5.08165711416416e-37\n"
     ]
    },
    {
     "data": {
      "text/plain": [
       "(280.3697156593953, 1.3093562668412848e-57)"
      ]
     },
     "execution_count": 104,
     "metadata": {},
     "output_type": "execute_result"
    }
   ],
   "source": [
    "pos = [1437, 1449, 1450]\n",
    "data1 = []\n",
    "for index in range(len(correlation_df)):\n",
    "    data = correlation_df.iloc[index]\n",
    "    ref_index1 = data[\"ref_index1\"]\n",
    "    ref_index2 = data[\"ref_index2\"]\n",
    "    if ref_index1 in pos and ref_index2 in pos:\n",
    "        print(ref_index1, ref_index2, exp_comparison_pvalues.iloc[index], np.max([exp_comparison_pvalues.iloc[index], exp_pvalues.iloc[index]]))\n",
    "        data1.append(np.max([exp_comparison_pvalues.iloc[index], exp_pvalues.iloc[index]]))\n",
    "combine_pvalues(data1)"
   ]
  },
  {
   "cell_type": "markdown",
   "metadata": {},
   "source": [
    "## RNA helicases"
   ]
  },
  {
   "cell_type": "code",
   "execution_count": 19,
   "metadata": {},
   "outputs": [
    {
     "name": "stdout",
     "output_type": "stream",
     "text": [
      "1437 1449 3.8376704791242086e-45 3.8376704791242086e-45\n",
      "1437 1450 1.0551679114364113e-44 1.0551679114364113e-44\n",
      "1449 1450 2.2559696558147545e-12 2.2559696558147545e-12\n",
      "(460.69789812162503, 2.444756959894857e-96)\n",
      "817 908 2.6203220266931644e-32 2.6203220266931644e-32\n",
      "817 2619 0.8509803381528454 0.8621788408430999\n",
      "817 2724 0.7617278208422629 0.7617278208422629\n",
      "908 2619 0.9923468576343126 0.9923468576343126\n",
      "908 2724 0.9578635822295868 0.9578635822295868\n",
      "2619 2724 1.3331965186791088e-20 1.3331965186791088e-20\n"
     ]
    }
   ],
   "source": [
    "exp_diff, mapper, exp_pvalues, exp_comparison_pvalues = get_max_correlation_diff_pvalues([\"Dbp3d_YPD\", \"Dbp3d_YPD2\"], \"RDN18-1\")   \n",
    "exp_diff1, mapper1, exp_pvalues1, exp_comparison_pvalues1 = get_max_correlation_diff_pvalues([\"Dbp3d_YPD\", \"Dbp3d_YPD2\"], \"RDN25-1\")     \n",
    "exp_pvalues = pd.concat([exp_pvalues1, exp_pvalues])\n",
    "exp_comparison_pvalues = pd.concat([exp_comparison_pvalues1, exp_comparison_pvalues])\n",
    "pos = [1437, 1449, 1450]\n",
    "data1 = []\n",
    "for index in range(len(correlation_df)):\n",
    "    data = correlation_df.iloc[index]\n",
    "    ref_index1 = data[\"ref_index1\"]\n",
    "    ref_index2 = data[\"ref_index2\"]\n",
    "    if ref_index1 in pos and ref_index2 in pos:\n",
    "        print(ref_index1, ref_index2, exp_comparison_pvalues.iloc[index], np.max([exp_comparison_pvalues.iloc[index], exp_pvalues.iloc[index]]))\n",
    "        data1.append(np.max([exp_comparison_pvalues.iloc[index], exp_pvalues.iloc[index]]))\n",
    "print(combine_pvalues(data1))\n",
    "\n",
    "pos = [817, 908, 2619, 2724]\n",
    "for index in range(len(correlation_df)):\n",
    "    data = correlation_df.iloc[index]\n",
    "    ref_index1 = data[\"ref_index1\"]\n",
    "    ref_index2 = data[\"ref_index2\"]\n",
    "    if ref_index1 in pos and ref_index2 in pos:\n",
    "        print(ref_index1, ref_index2, exp_comparison_pvalues.iloc[index], np.max([exp_comparison_pvalues.iloc[index], exp_pvalues.iloc[index]]))\n"
   ]
  },
  {
   "cell_type": "code",
   "execution_count": 20,
   "metadata": {
    "scrolled": true
   },
   "outputs": [
    {
     "name": "stdout",
     "output_type": "stream",
     "text": [
      "1437 1449 9.97697184007468e-10 9.97697184007468e-10\n",
      "1437 1450 0.0010303788281890265 0.0010303788281890265\n",
      "1449 1450 0.9971135973662546 0.9971135973662546\n",
      "(55.21258126965293, 4.1991733158394006e-10)\n",
      "817 908 0.8374989219832035 0.8374989219832035\n",
      "817 2619 0.9846930320842404 0.9846930320842404\n",
      "817 2724 0.9822632465205277 0.9822632465205277\n",
      "908 2619 0.9784569496047942 0.9784569496047942\n",
      "908 2724 0.9494154838115187 0.9494154838115187\n",
      "2619 2724 0.9922302288171346 0.9922302288171346\n"
     ]
    }
   ],
   "source": [
    "exp_diff, mapper, exp_pvalues, exp_comparison_pvalues = get_max_correlation_diff_pvalues([\"prp43\", \"prp43_2\"], \"RDN18-1\")   \n",
    "exp_diff1, mapper1, exp_pvalues1, exp_comparison_pvalues1 = get_max_correlation_diff_pvalues([\"prp43\", \"prp43_2\"], \"RDN25-1\")     \n",
    "exp_pvalues = pd.concat([exp_pvalues1, exp_pvalues])\n",
    "exp_comparison_pvalues = pd.concat([exp_comparison_pvalues1, exp_comparison_pvalues])\n",
    "pos = [1437, 1449, 1450]\n",
    "data1 = []\n",
    "for index in range(len(correlation_df)):\n",
    "    data = correlation_df.iloc[index]\n",
    "    ref_index1 = data[\"ref_index1\"]\n",
    "    ref_index2 = data[\"ref_index2\"]\n",
    "    if ref_index1 in pos and ref_index2 in pos:\n",
    "        print(ref_index1, ref_index2, exp_comparison_pvalues.iloc[index], np.max([exp_comparison_pvalues.iloc[index], exp_pvalues.iloc[index]]))\n",
    "        data1.append(np.max([exp_comparison_pvalues.iloc[index], exp_pvalues.iloc[index]]))\n",
    "print(combine_pvalues(data1))\n",
    "\n",
    "pos = [817, 908, 2619, 2724]\n",
    "for index in range(len(correlation_df)):\n",
    "    data = correlation_df.iloc[index]\n",
    "    ref_index1 = data[\"ref_index1\"]\n",
    "    ref_index2 = data[\"ref_index2\"]\n",
    "    if ref_index1 in pos and ref_index2 in pos:\n",
    "        print(ref_index1, ref_index2, exp_comparison_pvalues.iloc[index], np.max([exp_comparison_pvalues.iloc[index], exp_pvalues.iloc[index]]))\n"
   ]
  },
  {
   "cell_type": "code",
   "execution_count": 21,
   "metadata": {},
   "outputs": [
    {
     "name": "stdout",
     "output_type": "stream",
     "text": [
      "1437 1449 1.8223342536602726e-15 0.00011995259021815532\n",
      "1437 1450 5.288312406616294e-13 0.00020148981673063972\n",
      "1449 1450 8.292598903628237e-55 1.0067891856334518e-15\n",
      "(104.14039168389853, 3.427889638139926e-20)\n",
      "817 908 1.3222268936806936e-15 1.3222268936806936e-15\n",
      "817 2619 0.6274594132991169 0.6274594132991169\n",
      "817 2724 0.9757682021875592 0.9757682021875592\n",
      "908 2619 0.9998578863250832 0.9998578863250832\n",
      "908 2724 0.9499754691365748 0.9499754691365748\n",
      "2619 2724 0.012045911961679428 0.012045911961679428\n"
     ]
    }
   ],
   "source": [
    "exp_diff, mapper, exp_pvalues, exp_comparison_pvalues = get_max_correlation_diff_pvalues([\"prx1\", \"prx1_2\"], \"RDN18-1\")   \n",
    "exp_diff1, mapper1, exp_pvalues1, exp_comparison_pvalues1 = get_max_correlation_diff_pvalues([\"prx1\", \"prx1_2\"], \"RDN25-1\")     \n",
    "exp_pvalues = pd.concat([exp_pvalues1, exp_pvalues])\n",
    "exp_comparison_pvalues = pd.concat([exp_comparison_pvalues1, exp_comparison_pvalues])\n",
    "pos = [1437, 1449, 1450]\n",
    "data1 = []\n",
    "for index in range(len(correlation_df)):\n",
    "    data = correlation_df.iloc[index]\n",
    "    ref_index1 = data[\"ref_index1\"]\n",
    "    ref_index2 = data[\"ref_index2\"]\n",
    "    if ref_index1 in pos and ref_index2 in pos:\n",
    "        print(ref_index1, ref_index2, exp_comparison_pvalues.iloc[index], np.max([exp_comparison_pvalues.iloc[index], exp_pvalues.iloc[index]]))\n",
    "        data1.append(np.max([exp_comparison_pvalues.iloc[index], exp_pvalues.iloc[index]]))\n",
    "print(combine_pvalues(data1))\n",
    "\n",
    "pos = [817, 908, 2619, 2724]\n",
    "for index in range(len(correlation_df)):\n",
    "    data = correlation_df.iloc[index]\n",
    "    ref_index1 = data[\"ref_index1\"]\n",
    "    ref_index2 = data[\"ref_index2\"]\n",
    "    if ref_index1 in pos and ref_index2 in pos:\n",
    "        print(ref_index1, ref_index2, exp_comparison_pvalues.iloc[index], np.max([exp_comparison_pvalues.iloc[index], exp_pvalues.iloc[index]]))\n"
   ]
  },
  {
   "cell_type": "code",
   "execution_count": null,
   "metadata": {},
   "outputs": [],
   "source": []
  }
 ],
 "metadata": {
  "kernelspec": {
   "display_name": "read_clustering",
   "language": "python",
   "name": "read_clustering"
  },
  "language_info": {
   "codemirror_mode": {
    "name": "ipython",
    "version": 3
   },
   "file_extension": ".py",
   "mimetype": "text/x-python",
   "name": "python",
   "nbconvert_exporter": "python",
   "pygments_lexer": "ipython3",
   "version": "3.7.7"
  }
 },
 "nbformat": 4,
 "nbformat_minor": 2
}
